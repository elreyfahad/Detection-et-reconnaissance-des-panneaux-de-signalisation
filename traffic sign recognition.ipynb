{
 "cells": [
  {
   "cell_type": "markdown",
   "metadata": {},
   "source": [
    "### Import packages"
   ]
  },
  {
   "cell_type": "code",
   "execution_count": 1,
   "metadata": {},
   "outputs": [],
   "source": [
    "import numpy as np\n",
    "import matplotlib.pyplot as plt\n",
    "import os, glob\n",
    "import pickle\n",
    "import pandas as pd\n",
    "import csv\n",
    "import cv2\n",
    "import math\n",
    "import imutils\n",
    "from collections import Counter\n",
    "\n",
    "from sklearn.svm import SVC\n",
    "from sklearn.neural_network import MLPClassifier\n",
    "from sklearn.ensemble import RandomForestClassifier\n",
    "from sklearn.metrics import classification_report\n",
    "from sklearn.linear_model import SGDClassifier\n",
    "from sklearn.neighbors import KNeighborsClassifier\n",
    "from sklearn.neighbors import RadiusNeighborsClassifier\n",
    "from sklearn.tree import DecisionTreeClassifier\n",
    "from sklearn.ensemble import AdaBoostClassifier\n",
    "from sklearn.naive_bayes import GaussianNB\n",
    "from sklearn.discriminant_analysis import QuadraticDiscriminantAnalysis\n",
    "from sklearn.linear_model import LogisticRegression\n",
    "from sklearn.ensemble import ExtraTreesClassifier\n",
    "from mlxtend.classifier import EnsembleVoteClassifier\n",
    "\n",
    "import joblib\n",
    "import PIL\n",
    "from PIL import ImageFont\n",
    "from PIL import Image\n",
    "from PIL import ImageDraw\n",
    "from PIL import Image\n",
    "from skimage.transform import rotate\n",
    "from skimage import exposure, feature, transform, color\n",
    "import random\n",
    "from random import randrange\n",
    "\n",
    "import scipy\n",
    "import datetime\n",
    "import warnings\n",
    "warnings.filterwarnings('ignore')\n",
    "\n",
    "train_path = \"DataSet/Train\"\n",
    "test_path = \"DataSet/Test\"\n",
    "meta_path = \"DataSet/Meta\""
   ]
  },
  {
   "cell_type": "markdown",
   "metadata": {},
   "source": [
    "### load images"
   ]
  },
  {
   "cell_type": "markdown",
   "metadata": {},
   "source": [
    "1. Read images"
   ]
  },
  {
   "cell_type": "code",
   "execution_count": 2,
   "metadata": {},
   "outputs": [],
   "source": [
    "# helper functions \n",
    "def readTrafficSigns(path, roi):\n",
    "\n",
    "    images = [] # images\n",
    "    labels = [] # corresponding labels\n",
    "    if roi :\n",
    "        colnames = ['X1','Y1','X2','Y2','Path', 'ClassId']\n",
    "    else :\n",
    "        colnames = ['Path', 'ClassId']\n",
    "    data = pd.read_csv(path+\".csv\", usecols = colnames)\n",
    "    lbls = data.ClassId.tolist()\n",
    "    imgs = data.Path.tolist()\n",
    "    \n",
    "    if roi:\n",
    "        rx1 = data.X1.tolist()\n",
    "        rx2 = data.X2.tolist()\n",
    "        ry1 = data.Y1.tolist()\n",
    "        ry2 = data.Y2.tolist()\n",
    "        \n",
    "    print(\"Image Extracting started !!\")\n",
    "    \n",
    "    if path == \"DataSet/Train\":\n",
    "        train_labels = os.listdir(\"DataSet/Adds\")\n",
    "        for l in train_labels:\n",
    "            dir = os.path.join(\"DataSet/Adds\", l)\n",
    "            imgs_ = os.listdir(dir)\n",
    "            for img in imgs_:\n",
    "                file =os.path.join(dir,img)\n",
    "                im = plt.imread(file)\n",
    "\n",
    "                im = resize_image(im, 40)\n",
    "                images.append(im)\n",
    "                labels.append(l)\n",
    "    i=0\n",
    "    for img in imgs:\n",
    "        im = plt.imread(\"Dataset/\"+img)\n",
    "        if roi :\n",
    "            im = im[np.int(ry1[i]):np.int(ry2[i]),\n",
    "                    np.int(rx1[i]):np.int(rx2[i]),:]\n",
    "        \n",
    "        im = resize_image(im, 40)\n",
    "        images.append(im)\n",
    "        labels.append(lbls[i])\n",
    "#        plt.imshow(im)\n",
    "#        plt.show()\n",
    "        i+=1\n",
    "    return images, labels\n",
    "\n",
    "\n",
    "def format_time(seconds):\n",
    "    if seconds < 60:\n",
    "        return f\"{int(seconds)} seconds\"\n",
    "    elif seconds < 3600:\n",
    "        m = seconds // 60\n",
    "        s = int(seconds % 60)\n",
    "        return f\"{m} minutes {s} seconds\"\n",
    "    else:\n",
    "        h = seconds // 3600\n",
    "        m = (seconds % 3600) // 60\n",
    "        s = int(seconds % 60) \n",
    "        return f\"{h} hours {m} minutes {s} seconds\""
   ]
  },
  {
   "cell_type": "code",
   "execution_count": 3,
   "metadata": {},
   "outputs": [],
   "source": [
    "def frequency_plot(y_train):\n",
    "    \n",
    "    temp_labels = y_train\n",
    "    temp_labels = sorted(temp_labels)\n",
    "    temp_labels = dict(Counter(temp_labels))\n",
    "    plt.figure(figsize=(8,4))\n",
    "    plt.bar(range(len(temp_labels)), temp_labels.values(), align='center', color='green',label='Training', alpha=0.3, width=0.7)\n",
    "    plt.xlabel('Classes')\n",
    "    plt.ylabel('Distribution')\n",
    "    plt.title('Frequency Distribution of Class Labels',fontsize=14)\n",
    "    plt.show()\n",
    "\n",
    "def resize_image(image, dim):\n",
    "    resized_image = transform.resize(image, (dim, dim)) \n",
    "    return resized_image    \n",
    "\n",
    "def rotate_image(image, max_angle):\n",
    "    rotate_out = rotate(image, np.random.uniform(-max_angle, max_angle), mode='edge')\n",
    "    return rotate_out"
   ]
  },
  {
   "cell_type": "code",
   "execution_count": 4,
   "metadata": {},
   "outputs": [],
   "source": [
    "def translate_image(image, max_trans = 5, height=40, width=40):\n",
    "    translate_x = max_trans*np.random.uniform() - max_trans/2\n",
    "    translate_y = max_trans*np.random.uniform() - max_trans/2\n",
    "    translation_mat = np.float32([[1,0,translate_x],[0,1,translate_y]])\n",
    "    trans = cv2.warpAffine(image, translation_mat, (height,width))\n",
    "    return trans\n",
    "\n",
    "def image_augmentation(image, temp, max_angle = 15):\n",
    "    \n",
    "    #img = noise(image, temp)\n",
    "    new_img = rotate_image(image, max_angle)\n",
    "    final_img = translate_image(new_img)\n",
    "    \n",
    "    return final_img"
   ]
  },
  {
   "cell_type": "code",
   "execution_count": 5,
   "metadata": {},
   "outputs": [],
   "source": [
    "def data_augmentation(X_train, y_train, batch_size=30,  dim=40):\n",
    "    if os.path.isfile(\"Aug_images.npy\") &  os.path.isfile(\"Aug_labels.npy\") :\n",
    "        X_train = np.load(\"Aug_images.npy\" )\n",
    "        y_train = np.load(\"Aug_labels.npy\" )\n",
    "        print(\"[INFO] Aug_images and Aug_labels are loaded in variables ==> X, y\")\n",
    "        print(\"[INFO] Number of Aug_images {} \\nNumber of Labels {}\".format(len(X_train), len(y_train)))\n",
    "    else:\n",
    " \n",
    "        temp_labels = y_train\n",
    "        temp_labels = dict(Counter(temp_labels))\n",
    "        temp_labels = sorted(temp_labels.items(), key=lambda kv: kv[1])\n",
    "        limit = temp_labels[len(temp_labels)-1][1]\n",
    "        train_x = X_train\n",
    "        train_y = y_train\n",
    "    \n",
    "        for x in temp_labels:\n",
    "            y = x[0]\n",
    "            count_y = x[1]\n",
    "            indices = np.argwhere(train_y==y).flatten()\n",
    "            print(y, count_y)\n",
    "            while count_y < limit:\n",
    "                lst_x = []\n",
    "                lst_y = []\n",
    "                index = randrange(batch_size, len(indices), batch_size)\n",
    "    \n",
    "                for i in range(index - 1, (index - batch_size) - 1, -1):\n",
    "                    temp = random.randint(14, 25)\n",
    "                    to_augment = np.asarray(train_x[indices[i]]).reshape(dim, dim, 3)\n",
    "                    lst_x.append(image_augmentation(to_augment, temp))\n",
    "                    lst_y.append(train_y[indices[i]])\n",
    "    \n",
    "                count_y += 30\n",
    "#                X_train.extend(lst_x)\n",
    "                X_train = np.append(X_train, lst_x, axis=0)\n",
    "                y_train = np.append(y_train, lst_y, axis=0)\n",
    "#                y_train.extend(lst_y)\n",
    "        np.save(\"Aug_images.npy\", X_train)\n",
    "        np.save(\"Aug_labels.npy\", y_train)\n",
    "        print(\"[INFO] Aug_images and Aug_labels are read from the dataset directory\")\n",
    "        print(\"[INFO] Aug_images saved to Aug_images.npy for further use\")\n",
    "        print(\"[INFO] Aug_labels saved to Aug_labels.npy for further use\")\n",
    "        X_train = np.load(\"Aug_images.npy\", allow_pickle=True)\n",
    "        y_train = np.load(\"Aug_labels.npy\", allow_pickle=True)\n",
    "        print(\"[INFO] Aug_images and Aug_labels are loaded in variables ==> X, y\")\n",
    "        print(\"[INFO] Number of Aug_images {} \\nNumber of Labels {}\".format(len(X_train), len(y_train)))\n",
    "    \n",
    "    frequency_plot(y_train)\n",
    "    \n",
    "    return X_train, y_train"
   ]
  },
  {
   "cell_type": "markdown",
   "metadata": {},
   "source": [
    "2. load training images"
   ]
  },
  {
   "cell_type": "code",
   "execution_count": 6,
   "metadata": {},
   "outputs": [
    {
     "name": "stdout",
     "output_type": "stream",
     "text": [
      "[INFO] Training images and labels are loaded in variables ==> X,y\n",
      "[INFO] Number of training Images 39628 \n",
      "Number of Labels 39628\n"
     ]
    }
   ],
   "source": [
    "if os.path.isfile(\"trainImages.npy\") &  os.path.isfile(\"trainLabels.npy\") :\n",
    "    X_train = np.load(\"trainImages.npy\", allow_pickle=True)\n",
    "    y_train = np.load(\"trainLabels.npy\", allow_pickle=True)\n",
    "    print(\"[INFO] Training images and labels are loaded in variables ==> X,y\")\n",
    "    print(\"[INFO] Number of training Images {} \\nNumber of Labels {}\".format(len(X_train), len(y_train)))\n",
    "else:    \n",
    "    # training images and labels\n",
    "    trainImages, trainLabels = readTrafficSigns(train_path, True)\n",
    "    np.save(\"trainImages.npy\",trainImages)\n",
    "    np.save(\"trainLabels.npy\",trainLabels)\n",
    "    print(\"[INFO] training images and labels are read from the dataset directory\")\n",
    "    print(\"[INFO] training images saved to trainingImages.npy for further use\")\n",
    "    print(\"[INFO] training labels saved to trainingLabels.npy for further use\")\n",
    "    X_train = np.load(\"trainImages.npy\", allow_pickle=True)\n",
    "    y_train = np.load(\"trainLabels.npy\", allow_pickle=True)\n",
    "    print(\"[INFO] Training images and labels are loaded in variables ==> X_train,y_train\")\n",
    "    print(\"[INFO] Number of training Images {} \\nNumber of Labels {}\".format(len(X_train), len(y_train)))"
   ]
  },
  {
   "cell_type": "markdown",
   "metadata": {},
   "source": [
    "3. load testing images"
   ]
  },
  {
   "cell_type": "code",
   "execution_count": 7,
   "metadata": {},
   "outputs": [
    {
     "name": "stdout",
     "output_type": "stream",
     "text": [
      "[INFO] Testing images and labels are loaded in variables ==> X_test,y_test\n",
      "[INFO] Number of testing Images 12630 \n",
      "Number of Labels 12630\n"
     ]
    }
   ],
   "source": [
    "if os.path.isfile(\"testImages.npy\") &  os.path.isfile(\"testLabels.npy\") :\n",
    "    X_test = np.load(\"testImages.npy\", allow_pickle=True)\n",
    "    y_test = np.load(\"testLabels.npy\", allow_pickle=True)\n",
    "    print(\"[INFO] Testing images and labels are loaded in variables ==> X_test,y_test\")\n",
    "    print(\"[INFO] Number of testing Images {} \\nNumber of Labels {}\".format(len(X_test), len(y_test)))\n",
    "else:    \n",
    "    # testing images and labels\n",
    "    testImages, testLabels = readTrafficSigns(test_path, True)\n",
    "    np.save(\"testImages.npy\",testImages)\n",
    "    np.save(\"testLabels.npy\",testLabels)\n",
    "    print(\"[INFO] testing images and labels are read from the dataset directory\")\n",
    "    print(\"[INFO] testing images saved to testingImages.npy for further use\")\n",
    "    print(\"[INFO] testning labels saved to testingLabels.npy for further use\")\n",
    "    X_test = np.load(\"testImages.npy\", allow_pickle=True)\n",
    "    y_test = np.load(\"testLabels.npy\", allow_pickle=True)\n",
    "    print(\"[INFO] Testing images and labels are loaded in variables ==> X_test,y_test\")\n",
    "    print(\"[INFO] Number of testing Images {} \\nNumber of Labels {}\".format(len(X_test), len(y_test)))"
   ]
  },
  {
   "cell_type": "markdown",
   "metadata": {},
   "source": [
    "4. load meta images"
   ]
  },
  {
   "cell_type": "code",
   "execution_count": 8,
   "metadata": {},
   "outputs": [
    {
     "name": "stdout",
     "output_type": "stream",
     "text": [
      "[INFO] Meta images and labels are loaded in variables ==> X_meta,y_meta\n",
      "[INFO] Number of Meta Images 43 \n",
      "Number of Labels 43\n"
     ]
    }
   ],
   "source": [
    "if os.path.isfile(\"metaImages.npy\") &  os.path.isfile(\"metaLabels.npy\") :\n",
    "    X_meta = np.load(\"metaImages.npy\", allow_pickle=True)\n",
    "    y_meta = np.load(\"metaLabels.npy\", allow_pickle=True)\n",
    "    print(\"[INFO] Meta images and labels are loaded in variables ==> X_meta,y_meta\")\n",
    "    print(\"[INFO] Number of Meta Images {} \\nNumber of Labels {}\".format(len(X_meta), len(y_meta)))\n",
    "else:    \n",
    "    # testing images and labels\n",
    "    metaImages, metaLabels = readTrafficSigns(meta_path, False)\n",
    "    np.save(\"metaImages.npy\",metaImages)\n",
    "    np.save(\"metaLabels.npy\",metaLabels)\n",
    "    print(\"[INFO] meta images and labels are read from the dataset directory\")\n",
    "    print(\"[INFO] meta images saved to metaImages.npy for further use\")\n",
    "    print(\"[INFO] meta labels saved to metaLabels.npy for further use\")\n",
    "    X_meta = np.load(\"metaImages.npy\", allow_pickle=True)\n",
    "    y_meta = np.load(\"metaLabels.npy\", allow_pickle=True)\n",
    "    print(\"[INFO] meta images and labels are loaded in variables ==> X_meta,y_meta\")\n",
    "    print(\"[INFO] Number of meta Images {} \\nNumber of Labels {}\".format(len(X_meta), len(y_meta)))"
   ]
  },
  {
   "cell_type": "markdown",
   "metadata": {},
   "source": [
    "###  Augmentation data"
   ]
  },
  {
   "cell_type": "code",
   "execution_count": 9,
   "metadata": {},
   "outputs": [
    {
     "name": "stdout",
     "output_type": "stream",
     "text": [
      "[INFO] Aug_images and Aug_labels are loaded in variables ==> X, y\n",
      "[INFO] Number of Aug_images 97168 \n",
      "Number of Labels 97168\n"
     ]
    },
    {
     "data": {
      "image/png": "[encoded data removed]",
      "text/plain": [
       "<Figure size 576x288 with 1 Axes>"
      ]
     },
     "metadata": {
      "needs_background": "light"
     },
     "output_type": "display_data"
    }
   ],
   "source": [
    "X_train, y_train = data_augmentation(X_train, y_train)"
   ]
  },
  {
   "cell_type": "code",
   "execution_count": 10,
   "metadata": {},
   "outputs": [
    {
     "data": {
      "text/plain": [
       "((97168, 40, 40, 3), (97168,))"
      ]
     },
     "execution_count": 10,
     "metadata": {},
     "output_type": "execute_result"
    }
   ],
   "source": [
    "X_train.shape, y_train.shape"
   ]
  },
  {
   "cell_type": "markdown",
   "metadata": {},
   "source": [
    "###  Features extraction"
   ]
  },
  {
   "cell_type": "markdown",
   "metadata": {},
   "source": [
    "Cartesian to log-polar"
   ]
  },
  {
   "cell_type": "code",
   "execution_count": 11,
   "metadata": {},
   "outputs": [],
   "source": [
    "def cart_to_log_polar(img,T):\n",
    "    img = img.astype(np.float32)\n",
    "    h, w = img.shape[:2]\n",
    "    maxRadius = math.hypot(w/2,h/2)\n",
    "    m = w / math.log(maxRadius)\n",
    "    polar_img = cv2.logPolar(img,(w/2, h/2), m/T, cv2.WARP_FILL_OUTLIERS+ cv2.INTER_LINEAR)\n",
    "    return polar_img"
   ]
  },
  {
   "cell_type": "markdown",
   "metadata": {},
   "source": [
    "#### 1. Histogram of Oriented Gradients (HOG)"
   ]
  },
  {
   "cell_type": "code",
   "execution_count": 12,
   "metadata": {},
   "outputs": [],
   "source": [
    "def extract_HOG(img):\n",
    "    (H, hog_img) = feature.hog(img, orientations=9, pixels_per_cell=(5,5),\n",
    "    cells_per_block=(2, 2), transform_sqrt=True, visualise=True)\n",
    "    hog_img = exposure.rescale_intensity(hog_img, out_range=(0, 255)).astype(\"uint8\")\n",
    "    return H,hog_img   "
   ]
  },
  {
   "cell_type": "markdown",
   "metadata": {},
   "source": [
    "#### 2. Local Binary Pattern (LBP)"
   ]
  },
  {
   "cell_type": "code",
   "execution_count": 13,
   "metadata": {},
   "outputs": [],
   "source": [
    "def extract_LBP(img):\n",
    "    rows, cols = img.shape\n",
    "    radius = 2\n",
    "    n_points = radius * 8\n",
    "    lbp_sum=[]\n",
    "    rows_ = rows+(6-rows%6)\n",
    "    cols_ = cols+(6-cols%6)\n",
    "    I1 = np.zeros((rows_,cols_))\n",
    "    I1[0:rows,0:cols] = img\n",
    "    for i in range(6):\n",
    "        for j in range(6):\n",
    "            img_block = I1[7*i:7*(i+1),7*j:7*(j+1)]\n",
    "            lbp = feature.local_binary_pattern(img_block, n_points, radius, 'uniform')\n",
    "            lbp2 = lbp.astype(np.int32)\n",
    "            max_bins = 59\n",
    "            train_hist, _ = np.histogram(lbp2.ravel(), normed=True, bins=max_bins, range=(0, max_bins))\n",
    "            lbp_sum=lbp_sum + train_hist.tolist()\n",
    "    lbp_sum = np.array(lbp_sum)          \n",
    "    return lbp_sum"
   ]
  },
  {
   "cell_type": "markdown",
   "metadata": {},
   "source": [
    "### Prepare train & test data"
   ]
  },
  {
   "cell_type": "markdown",
   "metadata": {},
   "source": [
    "#### 1. Train features extraction"
   ]
  },
  {
   "cell_type": "code",
   "execution_count": 14,
   "metadata": {
    "scrolled": true
   },
   "outputs": [
    {
     "name": "stdout",
     "output_type": "stream",
     "text": [
      "[INFO] loading from file ... \n",
      "Train features are loaded from TrainFeatures.npy to variable ==> train_feat\n"
     ]
    }
   ],
   "source": [
    "if os.path.isfile(\"TrainFeatures.npy\"):\n",
    "    print(\"[INFO] loading from file ... \")\n",
    "    train_feat = np.load(\"TrainFeatures.npy\")\n",
    "    print(\"Train features are loaded from TrainFeatures.npy to variable ==> train_feat\")\n",
    "else:\n",
    "    print(\"[INFO] TrainFeatures.npy does not found\")\n",
    "    start_time = datetime.datetime.now()\n",
    "    train_feat = []\n",
    "    for i in range(0,len(X_train)):\n",
    "        # show an update every 1,000 images\n",
    "        if i > 0 and i % 1000 == 0:\n",
    "            print(\"[INFO] processed {}/{}\".format(i, len(X_train)))\n",
    "        I = X_train[i]\n",
    "        grayim = color.rgb2gray(I)\n",
    "        #grayim = resize_image(grayim,(40,40))\n",
    "        grayim = cart_to_log_polar(grayim,0.8)\n",
    "        (H_4x4, hogImage) = extract_HOG(grayim)\n",
    "        lbp = extract_LBP(grayim)\n",
    "        features = np.hstack([H_4x4,lbp])\n",
    "        train_feat.append(features)\n",
    "        # save the features using numpy save with .npy extention \n",
    "        # which reduced the storage space by 4times compared to pickle\n",
    "    np.save(\"TrainFeatures.npy\", train_feat)\n",
    "    end_time = datetime.datetime.now()\n",
    "    dt = end_time - start_time\n",
    "    seconds = dt.total_seconds()\n",
    "    t = format_time(seconds)\n",
    "    print(\"[INFO] TrainFeatures.npy are saved\")\n",
    "    print(\"total_time\",t)\n",
    "    print(\"[INFO] loading from file ... \")\n",
    "    train_feat = np.load(\"TrainFeatures.npy\")\n",
    "    print(\"Train features are loaded from TrainFeatures.npy to variable ==> train_feat\")"
   ]
  },
  {
   "cell_type": "markdown",
   "metadata": {},
   "source": [
    "#### 2  Test features extraction"
   ]
  },
  {
   "cell_type": "code",
   "execution_count": 15,
   "metadata": {},
   "outputs": [
    {
     "name": "stdout",
     "output_type": "stream",
     "text": [
      "[INFO] loading from file ... \n",
      "Test features are loaded from TestFeatures.npy to variable ==> test_feat\n"
     ]
    }
   ],
   "source": [
    "if os.path.isfile(\"TestFeatures.npy\"):\n",
    "    print(\"[INFO] loading from file ... \")\n",
    "    test_feat = np.load(\"TestFeatures.npy\")\n",
    "    print(\"Test features are loaded from TestFeatures.npy to variable ==> test_feat\")\n",
    "else:\n",
    "    print(\"[INFO] TestFeatures.npy does not found\")\n",
    "    start_time = datetime.datetime.now()\n",
    "    test_feat = []\n",
    "    for i in range(0,len(X_test)):\n",
    "        # show an update every 1,000 images\n",
    "        if i > 0 and i % 1000 == 0:\n",
    "            print(\"[INFO] processed {}/{}\".format(i, len(X_test)))\n",
    "        I = X_test[i]\n",
    "        grayim = color.rgb2gray(I)\n",
    "        grayim = transform.resize(grayim,(40,40))\n",
    "        grayim = cart_to_log_polar(grayim,0.8)\n",
    "        (H_4x4, hogImage) = extract_HOG(grayim)\n",
    "        lbp = extract_LBP(grayim)\n",
    "        features = np.hstack([H_4x4,lbp])\n",
    "        test_feat.append(features)\n",
    "        # save the features using numpy save with .npy extention \n",
    "        # which reduced the storage space by 4times compared to pickle\n",
    "    np.save(\"TestFeatures.npy\", test_feat)\n",
    "    end_time = datetime.datetime.now()\n",
    "    dt = end_time - start_time\n",
    "    seconds = dt.total_seconds()\n",
    "    t = format_time(seconds)\n",
    "    print(\"[INFO] TestFeatures.npy are saved\")\n",
    "    print(\"total_time\",t)\n",
    "    print(\"[INFO] loading from file ... \")\n",
    "    test_feat = np.load(\"TestFeatures.npy\")\n",
    "    print(\"Test features are loaded from TestFeatures.npy to variable ==> test_feat\")"
   ]
  },
  {
   "cell_type": "markdown",
   "metadata": {},
   "source": [
    "#### 3. Meta features extraction"
   ]
  },
  {
   "cell_type": "code",
   "execution_count": 16,
   "metadata": {},
   "outputs": [
    {
     "name": "stdout",
     "output_type": "stream",
     "text": [
      "[INFO] loading from file ... \n",
      "Meta features are loaded from MetaFeatures.npy to variable ==> meta_feat\n"
     ]
    }
   ],
   "source": [
    "if os.path.isfile(\"MetaFeatures.npy\"):\n",
    "    print(\"[INFO] loading from file ... \")\n",
    "    meta_feat = np.load(\"MetaFeatures.npy\")\n",
    "    print(\"Meta features are loaded from MetaFeatures.npy to variable ==> meta_feat\")\n",
    "else:\n",
    "    print(\"[INFO] MetaFeatures.npy does not found\")\n",
    "    start_time = datetime.datetime.now()\n",
    "    meta_feat = []\n",
    "    for i in range(0,len(X_meta)):\n",
    "        # show an update every 1,000 images\n",
    "        if i > 0 and i % 1000 == 0:\n",
    "            print(\"[INFO] processed {}/{}\".format(i, len(X_meta)))\n",
    "        I = X_meta[i]\n",
    "        grayim = color.rgb2gray(I)\n",
    "        grayim = transform.resize(grayim,(40,40))\n",
    "        grayim = cart_to_log_polar(grayim,0.8)\n",
    "        (H_4x4, hogImage) = extract_HOG(grayim)\n",
    "        lbp = extract_LBP(grayim)\n",
    "        features = np.hstack([H_4x4,lbp])\n",
    "        meta_feat.append(features)\n",
    "        # save the features using numpy save with .npy extention \n",
    "        # which reduced the storage space by 4times compared to pickle\n",
    "    np.save(\"MetaFeatures.npy\", meta_feat)\n",
    "    end_time = datetime.datetime.now()\n",
    "    dt = end_time - start_time\n",
    "    seconds = dt.total_seconds()\n",
    "    t = format_time(seconds)\n",
    "    print(\"[INFO] MetaFeatures.npy are saved\")\n",
    "    print(\"total_time\",t)\n",
    "    print(\"[INFO] loading from file ... \")\n",
    "    meta_feat = np.load(\"MetaFeatures.npy\")\n",
    "    print(\"Meta features are loaded from MetaFeatures.npy to variable ==> meta_feat\")"
   ]
  },
  {
   "cell_type": "markdown",
   "metadata": {},
   "source": [
    "#### 4. Data type conversion"
   ]
  },
  {
   "cell_type": "code",
   "execution_count": 17,
   "metadata": {},
   "outputs": [
    {
     "name": "stdout",
     "output_type": "stream",
     "text": [
      "(97168, 3888) (97168,)\n",
      "[ 0.  1.  2.  3.  4.  5.  6.  7.  8.  9. 10. 11. 12. 13. 14. 15. 16. 17.\n",
      " 18. 19. 20. 21. 22. 23. 24. 25. 26. 27. 28. 29. 30. 31. 32. 33. 34. 35.\n",
      " 36. 37. 38. 39. 40. 41. 42.]\n"
     ]
    }
   ],
   "source": [
    "X_train = np.array(train_feat).astype(\"float\")\n",
    "y_train = y_train.astype(\"float\")\n",
    "print(X_train.shape,y_train.shape)\n",
    "print(np.unique(y_train))"
   ]
  },
  {
   "cell_type": "code",
   "execution_count": 18,
   "metadata": {},
   "outputs": [
    {
     "name": "stdout",
     "output_type": "stream",
     "text": [
      "(12630, 3888) (12630,)\n",
      "[ 0.  1.  2.  3.  4.  5.  6.  7.  8.  9. 10. 11. 12. 13. 14. 15. 16. 17.\n",
      " 18. 19. 20. 21. 22. 23. 24. 25. 26. 27. 28. 29. 30. 31. 32. 33. 34. 35.\n",
      " 36. 37. 38. 39. 40. 41. 42.]\n"
     ]
    }
   ],
   "source": [
    "X_test = np.array(test_feat).astype(\"float\")\n",
    "y_test = y_test.astype(\"float\")\n",
    "print(X_test.shape, y_test.shape)\n",
    "print(np.unique(y_test))"
   ]
  },
  {
   "cell_type": "code",
   "execution_count": 19,
   "metadata": {
    "scrolled": true
   },
   "outputs": [
    {
     "name": "stdout",
     "output_type": "stream",
     "text": [
      "(43, 3888) (43,)\n",
      "[ 0.  1.  2.  3.  4.  5.  6.  7.  8.  9. 10. 11. 12. 13. 14. 15. 16. 17.\n",
      " 18. 19. 20. 21. 22. 23. 24. 25. 26. 27. 28. 29. 30. 31. 32. 33. 34. 35.\n",
      " 36. 37. 38. 39. 40. 41. 42.]\n"
     ]
    }
   ],
   "source": [
    "X_meta = np.array(meta_feat).astype(\"float\")\n",
    "y_meta = y_meta.astype(\"float\")\n",
    "print(X_meta.shape, y_meta.shape)\n",
    "print(np.unique(y_meta))"
   ]
  },
  {
   "cell_type": "markdown",
   "metadata": {},
   "source": [
    "### Training classifiers"
   ]
  },
  {
   "cell_type": "markdown",
   "metadata": {},
   "source": [
    "#### 1. SVM"
   ]
  },
  {
   "cell_type": "code",
   "execution_count": 23,
   "metadata": {},
   "outputs": [
    {
     "name": "stdout",
     "output_type": "stream",
     "text": [
      "[INFO] loading classifier: SVC trained on Combine features...\n",
      "[INFO] Classifer is loaded as instance ::svc::\n"
     ]
    }
   ],
   "source": [
    "if os.path.isfile(\"clf_svc.pkl.gz\"):\n",
    "    print(\"[INFO] loading classifier: SVC trained on Combine features...\")\n",
    "    svc = joblib.load(\"clf_svc.pkl.gz\")\n",
    "    print(\"[INFO] Classifer is loaded as instance ::svc::\")\n",
    "else:\n",
    "    print(\"[INFO] pre-trained classifier not found. \\n Training Classifier SVC\")\n",
    "    start_time = datetime.datetime.now()\n",
    "    svc = SVC(C=7.0, kernel='rbf',gamma=0.09)\n",
    "    svc.fit(X_train, y_train)\n",
    "    print(\"[INFO] Succefully trained the Combine classsifier. \\n Saving the classifier for further use\")\n",
    "    joblib.dump(svc, 'clf_svc.pkl.gz', compress=('gzip', 3))\n",
    "    end_time = datetime.datetime.now()\n",
    "    dt = end_time - start_time\n",
    "    seconds = dt.total_seconds()\n",
    "    t = format_time(seconds)\n",
    "    print(\"[INFO] Classifier Saved\")\n",
    "    print(\"total_time\",t)\n",
    "    print(\"[INFO] loading classifier: SVC trained on Combine features...\")\n",
    "    svc = joblib.load(\"clf_svc.pkl.gz\")\n",
    "    print(\"[INFO] Classifer is loaded as instance ::svc::\")"
   ]
  },
  {
   "cell_type": "markdown",
   "metadata": {},
   "source": [
    "#### 2. Multi-layer perceptron"
   ]
  },
  {
   "cell_type": "code",
   "execution_count": 24,
   "metadata": {},
   "outputs": [
    {
     "name": "stdout",
     "output_type": "stream",
     "text": [
      "[INFO] loading classifier: MLP trained on Combine features...\n",
      "[INFO] Classifer is loaded as instance ::mlp::\n"
     ]
    }
   ],
   "source": [
    "# MLP\n",
    "if os.path.isfile(\"clf_mlp.pkl.gz\"):\n",
    "    print(\"[INFO] loading classifier: MLP trained on Combine features...\")\n",
    "    mlp = joblib.load(\"clf_mlp.pkl.gz\")\n",
    "    print(\"[INFO] Classifer is loaded as instance ::mlp::\")\n",
    "else:\n",
    "    print(\"[INFO] pre-trained classifier not found. \\n Training Classifier \\MLP\")\n",
    "    start_time = datetime.datetime.now()\n",
    "    mlp = MLPClassifier(hidden_layer_sizes=(700,))\n",
    "    mlp.fit(X_train, y_train)\n",
    "    print(\"[INFO] Succefully trained the classsifier. \\n Saving the classifier for further use\")\n",
    "    joblib.dump(mlp, 'clf_mlp.pkl.gz', compress=('gzip', 3)) \n",
    "    end_time = datetime.datetime.now()\n",
    "    dt = end_time - start_time\n",
    "    seconds = dt.total_seconds()\n",
    "    t = format_time(seconds)\n",
    "    print(\"[INFO] Classifier Saved\")\n",
    "    print(\"total_time\",t)\n",
    "    print(\"[INFO] loading classifier: MLP trained on combined features...\")\n",
    "    mlp = joblib.load(\"clf_mlp.pkl.gz\")\n",
    "    print(\"[INFO] Classifer is loaded as instance ::mlp::\")"
   ]
  },
  {
   "cell_type": "markdown",
   "metadata": {},
   "source": [
    "#### 3. Random forest"
   ]
  },
  {
   "cell_type": "code",
   "execution_count": 25,
   "metadata": {},
   "outputs": [
    {
     "name": "stdout",
     "output_type": "stream",
     "text": [
      "[INFO] loading classifier: RF trained on Combine features...\n",
      "[INFO] Classifer is loaded as instance ::rf::\n"
     ]
    }
   ],
   "source": [
    "# RF\n",
    "if os.path.isfile(\"clf_rf.pkl.gz\"):\n",
    "    print(\"[INFO] loading classifier: RF trained on Combine features...\")\n",
    "    rf = joblib.load(\"clf_rf.pkl.gz\")\n",
    "    print(\"[INFO] Classifer is loaded as instance ::rf::\")\n",
    "else:\n",
    "    print(\"[INFO] pre-trained classifier not found. \\n Training Classifier \\RF\")\n",
    "    start_time = datetime.datetime.now()\n",
    "    rf = RandomForestClassifier(n_jobs = -1, n_estimators = 200, criterion='entropy', max_depth=None)\n",
    "    rf.fit(X_train, y_train)\n",
    "    print(\"[INFO] Succefully trained the classsifier. \\n Saving the classifier for further use\")\n",
    "    joblib.dump(rf, 'clf_rf.pkl.gz', compress=('gzip', 3)) \n",
    "    end_time = datetime.datetime.now()\n",
    "    dt = end_time - start_time\n",
    "    seconds = dt.total_seconds()\n",
    "    t = format_time(seconds)\n",
    "    print(\"[INFO] Classifier Saved\")\n",
    "    print(\"total_time\",t)\n",
    "    print(\"[INFO] loading classifier: RF trained on Conbined features...\")\n",
    "    rf = joblib.load(\"clf_rf.pkl.gz\")\n",
    "    print(\"[INFO] Classifer is loaded as instance ::rf::\")"
   ]
  },
  {
   "cell_type": "markdown",
   "metadata": {},
   "source": [
    "#### 4. Stochastic Gradient Descent"
   ]
  },
  {
   "cell_type": "code",
   "execution_count": 26,
   "metadata": {},
   "outputs": [
    {
     "name": "stdout",
     "output_type": "stream",
     "text": [
      "[INFO] loading classifier: SGD trained on Combine features...\n",
      "[INFO] Classifer is loaded as instance ::sgd::\n"
     ]
    }
   ],
   "source": [
    "# SGD\n",
    "if os.path.isfile(\"clf_sgd.pkl.gz\"):\n",
    "    print(\"[INFO] loading classifier: SGD trained on Combine features...\")\n",
    "    sgd = joblib.load(\"clf_sgd.pkl.gz\")\n",
    "    print(\"[INFO] Classifer is loaded as instance ::sgd::\")\n",
    "else:\n",
    "    print(\"[INFO] pre-trained classifier not found. \\n Training Classifier \\SGD\")\n",
    "    start_time = datetime.datetime.now()\n",
    "    sgd = SGDClassifier(n_jobs = -1 ,tol=1e-5)\n",
    "    sgd.fit(X_train, y_train)\n",
    "    print(\"[INFO] Succefully trained the classsifier. \\n Saving the classifier for further use\")\n",
    "    joblib.dump(sgd, 'clf_sgd.pkl.gz', compress=('gzip', 3))\n",
    "    end_time = datetime.datetime.now()\n",
    "    dt = end_time - start_time\n",
    "    seconds = dt.total_seconds()\n",
    "    t = format_time(seconds)\n",
    "    print(\"[INFO] Classifier Saved\")\n",
    "    print(\"total_time\",t)\n",
    "    print(\"[INFO] loading classifier: SGD trained on Conbined features...\")\n",
    "    sgd = joblib.load(\"clf_sgd.pkl.gz\")\n",
    "    print(\"[INFO] Classifer is loaded as instance ::sgd::\")"
   ]
  },
  {
   "cell_type": "markdown",
   "metadata": {},
   "source": [
    "#### 5. K Nearest Neighbors"
   ]
  },
  {
   "cell_type": "code",
   "execution_count": 22,
   "metadata": {},
   "outputs": [
    {
     "name": "stdout",
     "output_type": "stream",
     "text": [
      "[INFO] loading classifier: KNN trained on Combine features...\n",
      "[INFO] Classifer is loaded as instance ::knn::\n"
     ]
    }
   ],
   "source": [
    "# KNN\n",
    "if os.path.isfile(\"clf_knn.pkl.gz\"):\n",
    "    print(\"[INFO] loading classifier: KNN trained on Combine features...\")\n",
    "    knn = joblib.load(\"clf_knn.pkl.gz\")\n",
    "    print(\"[INFO] Classifer is loaded as instance ::knn::\")\n",
    "else:\n",
    "    print(\"[INFO] pre-trained classifier not found. \\n Training Classifier \\KNN\")\n",
    "    start_time = datetime.datetime.now()\n",
    "    knn = KNeighborsClassifier(n_neighbors = 1, n_jobs = -1)\n",
    "    knn.fit(X_train, y_train)\n",
    "    print(\"[INFO] Succefully trained the classsifier. \\n Saving the classifier for further use\")\n",
    "    joblib.dump(knn, 'clf_knn.pkl.gz', compress=('gzip', 3)) \n",
    "    end_time = datetime.datetime.now()\n",
    "    dt = end_time - start_time\n",
    "    seconds = dt.total_seconds()\n",
    "    t = format_time(seconds)\n",
    "    print(\"[INFO] Classifier Saved\")\n",
    "    print(\"total_time\",t)\n",
    "    print(\"[INFO] loading classifier: KNN trained on Conbined features...\")\n",
    "    knn = joblib.load(\"clf_knn.pkl.gz\")\n",
    "    print(\"[INFO] Classifer is loaded as instance ::knn::\")"
   ]
  },
  {
   "cell_type": "markdown",
   "metadata": {},
   "source": [
    "#### 6. AdaBoost"
   ]
  },
  {
   "cell_type": "code",
   "execution_count": 31,
   "metadata": {},
   "outputs": [
    {
     "name": "stdout",
     "output_type": "stream",
     "text": [
      "[INFO] loading classifier: ADB trained on Combine features...\n",
      "[INFO] Classifer is loaded as instance ::adb::\n"
     ]
    }
   ],
   "source": [
    "# ADB\n",
    "if os.path.isfile(\"clf_adb.pkl.gz\"):\n",
    "    print(\"[INFO] loading classifier: ADB trained on Combine features...\")\n",
    "    adb = joblib.load(\"clf_adb.pkl.gz\")\n",
    "    print(\"[INFO] Classifer is loaded as instance ::adb::\")\n",
    "else:\n",
    "    print(\"[INFO] pre-trained classifier not found. \\n Training Classifier \\ADB\")\n",
    "    start_time = datetime.datetime.now()\n",
    "    adb = AdaBoostClassifier(n_estimators=200)\n",
    "    adb.fit(X_train, y_train)\n",
    "    print(\"[INFO] Succefully trained the classsifier. \\n Saving the classifier for further use\")\n",
    "    joblib.dump(adb, 'clf_adb.pkl.gz', compress=('gzip', 3)) \n",
    "    end_time = datetime.datetime.now()\n",
    "    dt = end_time - start_time\n",
    "    seconds = dt.total_seconds()\n",
    "    t = format_time(seconds)\n",
    "    print(\"[INFO] Classifier Saved\")\n",
    "    print(\"total_time\",t)\n",
    "    print(\"[INFO] loading classifier: ADB trained on Conbined features...\")\n",
    "    adb = joblib.load(\"clf_adb.pkl.gz\")\n",
    "    print(\"[INFO] Classifer is loaded as instance ::adb::\")"
   ]
  },
  {
   "cell_type": "markdown",
   "metadata": {},
   "source": [
    "#### 7. Decision Tree"
   ]
  },
  {
   "cell_type": "code",
   "execution_count": 32,
   "metadata": {},
   "outputs": [
    {
     "name": "stdout",
     "output_type": "stream",
     "text": [
      "[INFO] loading classifier: Tree trained on Combine features...\n",
      "[INFO] Classifer is loaded as instance ::tree::\n"
     ]
    }
   ],
   "source": [
    "# Tree\n",
    "if os.path.isfile(\"clf_tree.pkl.gz\"):\n",
    "    print(\"[INFO] loading classifier: Tree trained on Combine features...\")\n",
    "    tree = joblib.load(\"clf_tree.pkl.gz\")\n",
    "    print(\"[INFO] Classifer is loaded as instance ::tree::\")\n",
    "else:\n",
    "    print(\"[INFO] pre-trained classifier not found. \\n Training Classifier \\Tree\")\n",
    "    start_time = datetime.datetime.now()\n",
    "    tree =  DecisionTreeClassifier(criterion = \"gini\", random_state = 100)\n",
    "    tree.fit(X_train, y_train)\n",
    "    print(\"[INFO] Succefully trained the classsifier. \\n Saving the classifier for further use\")\n",
    "    joblib.dump(tree, 'clf_tree.pkl.gz', compress=('gzip', 3)) \n",
    "    end_time = datetime.datetime.now()\n",
    "    dt = end_time - start_time\n",
    "    seconds = dt.total_seconds()\n",
    "    t = format_time(seconds)\n",
    "    print(\"[INFO] Classifier Saved\")\n",
    "    print(\"total_time\",t)\n",
    "    print(\"[INFO] loading classifier: Tree trained on Conbined features...\")\n",
    "    tree = joblib.load(\"clf_tree.pkl.gz\")\n",
    "    print(\"[INFO] Classifer is loaded as instance ::tree::\")"
   ]
  },
  {
   "cell_type": "markdown",
   "metadata": {},
   "source": [
    "#### 8. GaussianNB"
   ]
  },
  {
   "cell_type": "code",
   "execution_count": 28,
   "metadata": {},
   "outputs": [
    {
     "name": "stdout",
     "output_type": "stream",
     "text": [
      "[INFO] loading classifier: GNB trained on Combine features...\n",
      "[INFO] Classifer is loaded as instance ::GNB::\n"
     ]
    }
   ],
   "source": [
    "# GNB\n",
    "\n",
    "if os.path.isfile(\"clf_gnb.pkl.gz\"):\n",
    "    print(\"[INFO] loading classifier: GNB trained on Combine features...\")\n",
    "    gnb = joblib.load(\"clf_gnb.pkl.gz\")\n",
    "    print(\"[INFO] Classifer is loaded as instance ::GNB::\")\n",
    "else:\n",
    "    print(\"[INFO] pre-trained classifier not found. \\n Training Classifier \\GNB\")\n",
    "    start_time = datetime.datetime.now()\n",
    "    gnb = GaussianNB()\n",
    "    gnb.fit(X_train, y_train)\n",
    "    print(\"[INFO] Succefully trained the classsifier. \\n Saving the classifier for further use\")\n",
    "    joblib.dump(gnb, 'clf_gnb.pkl.gz', compress=('gzip', 3))\n",
    "    end_time = datetime.datetime.now()\n",
    "    dt = end_time - start_time\n",
    "    seconds = dt.total_seconds()\n",
    "    t = format_time(seconds)\n",
    "    print(\"[INFO] Classifier Saved\")\n",
    "    print(\"total_time\",t)\n",
    "    print(\"[INFO] loading classifier: GNB trained on Conbined features...\")\n",
    "    gnb = joblib.load(\"clf_gnb.pkl.gz\")\n",
    "    print(\"[INFO] Classifer is loaded as instance ::gnb::\")"
   ]
  },
  {
   "cell_type": "markdown",
   "metadata": {},
   "source": [
    "#### 9. Quadratic Discriminant Analysis"
   ]
  },
  {
   "cell_type": "code",
   "execution_count": 25,
   "metadata": {},
   "outputs": [
    {
     "name": "stdout",
     "output_type": "stream",
     "text": [
      "[INFO] loading classifier: QDA trained on Combine features...\n",
      "[INFO] Classifer is loaded as instance ::QDA::\n"
     ]
    }
   ],
   "source": [
    "# QDA\n",
    "from sklearn.discriminant_analysis import LinearDiscriminantAnalysis\n",
    "if os.path.isfile(\"clf_qda.pkl.gz\"):\n",
    "    print(\"[INFO] loading classifier: QDA trained on Combine features...\")\n",
    "    qda = joblib.load(\"clf_qda.pkl.gz\")\n",
    "    print(\"[INFO] Classifer is loaded as instance ::QDA::\")\n",
    "else:\n",
    "    print(\"[INFO] pre-trained classifier not found. \\n Training Classifier \\QDA\")\n",
    "    start_time = datetime.datetime.now()\n",
    "    qda =  LinearDiscriminantAnalysis()\n",
    "    qda.fit(X_train, y_train)\n",
    "    print(\"[INFO] Succefully trained the classsifier. \\n Saving the classifier for further use\")\n",
    "    joblib.dump(qda, 'clf_qda.pkl.gz', compress=('gzip', 3))\n",
    "    end_time = datetime.datetime.now()\n",
    "    dt = end_time - start_time\n",
    "    seconds = dt.total_seconds()\n",
    "    t = format_time(seconds)\n",
    "    print(\"[INFO] Classifier Saved\")\n",
    "    print(\"total_time\",t)\n",
    "    print(\"[INFO] loading classifier: QDA trained on Conbined features...\")\n",
    "    qda = joblib.load(\"clf_qda.pkl.gz\")\n",
    "    print(\"[INFO] Classifer is loaded as instance ::qda::\")"
   ]
  },
  {
   "cell_type": "markdown",
   "metadata": {},
   "source": [
    "#### 10. Logistic Regression"
   ]
  },
  {
   "cell_type": "code",
   "execution_count": 27,
   "metadata": {},
   "outputs": [
    {
     "name": "stdout",
     "output_type": "stream",
     "text": [
      "[INFO] loading classifier: LCR trained on Combined features...\n",
      "[INFO] Classifer is loaded as instance ::LCR::\n"
     ]
    }
   ],
   "source": [
    "# LCR\n",
    "if os.path.isfile(\"clf_lcr.pkl.gz\"):\n",
    "    print(\"[INFO] loading classifier: LCR trained on Combined features...\")\n",
    "    lcr = joblib.load(\"clf_lcr.pkl.gz\")\n",
    "    print(\"[INFO] Classifer is loaded as instance ::LCR::\")\n",
    "else:\n",
    "    print(\"[INFO] pre-trained classifier not found. \\n Training Classifier \\LCR\")\n",
    "    start_time = datetime.datetime.now()\n",
    "    lcr =  LogisticRegression()\n",
    "    lcr.fit(X_train, y_train)\n",
    "    print(\"[INFO] Succefully trained the classsifier. \\n Saving the classifier for further use\")\n",
    "    joblib.dump(lcr, 'clf_lcr.pkl.gz', compress=('gzip', 3))\n",
    "    end_time = datetime.datetime.now()\n",
    "    dt = end_time - start_time\n",
    "    seconds = dt.total_seconds()\n",
    "    t = format_time(seconds)\n",
    "    print(\"[INFO] Classifier Saved\")\n",
    "    print(\"total_time\",t)\n",
    "    print(\"[INFO] loading classifier: LCR trained on Conbined features...\")\n",
    "    lcr = joblib.load(\"clf_lcr.pkl.gz\")\n",
    "    print(\"[INFO] Classifer is loaded as instance ::lcr::\")"
   ]
  },
  {
   "cell_type": "markdown",
   "metadata": {},
   "source": [
    "#### 11. Extra Trees"
   ]
  },
  {
   "cell_type": "code",
   "execution_count": null,
   "metadata": {},
   "outputs": [
    {
     "name": "stdout",
     "output_type": "stream",
     "text": [
      "[INFO] loading classifier: ExTree trained on Combined features...\n"
     ]
    }
   ],
   "source": [
    "# EX_Tree\n",
    "if os.path.isfile(\"clf_exTree.pkl.gz\"):\n",
    "    print(\"[INFO] loading classifier: ExTree trained on Combined features...\")\n",
    "    exTree = joblib.load(\"clf_exTree.pkl.gz\")\n",
    "    print(\"[INFO] Classifer is loaded as instance ::exTree::\")\n",
    "else:\n",
    "    print(\"[INFO] pre-trained classifier not found. \\n Training Classifier \\exTree\")\n",
    "    start_time = datetime.datetime.now()\n",
    "    exTree =  ExtraTreesClassifier(n_estimators=200, n_jobs=-1)\n",
    "    exTree.fit(X_train, y_train)\n",
    "    print(\"[INFO] Succefully trained the classsifier. \\n Saving the classifier for further use\")\n",
    "    joblib.dump(exTree, 'clf_exTree.pkl.gz', compress=('gzip', 3))\n",
    "    end_time = datetime.datetime.now()\n",
    "    dt = end_time - start_time\n",
    "    seconds = dt.total_seconds()\n",
    "    t = format_time(seconds)\n",
    "    print(\"[INFO] Classifier Saved\")\n",
    "    print(\"total_time\",t)\n",
    "    print(\"[INFO] loading classifier: exTree trained on Conbined features...\")\n",
    "    exTree = joblib.load(\"clf_exTree.pkl.gz\")\n",
    "    print(\"[INFO] Classifer is loaded as instance ::exTree::\")"
   ]
  },
  {
   "cell_type": "markdown",
   "metadata": {},
   "source": [
    "#### ==> Ensemble"
   ]
  },
  {
   "cell_type": "code",
   "execution_count": 20,
   "metadata": {},
   "outputs": [
    {
     "name": "stdout",
     "output_type": "stream",
     "text": [
      "[INFO] loading classifier: Ensemble trained on Combined features...\n",
      "[INFO] Classifer is loaded as instance ::model::\n"
     ]
    }
   ],
   "source": [
    "# Ensemble\n",
    "if os.path.isfile(\"model1.pkl.gz\"):\n",
    "    print(\"[INFO] loading classifier: Ensemble trained on Combined features...\")\n",
    "    model = joblib.load(\"model1.pkl.gz\")\n",
    "    print(\"[INFO] Classifer is loaded as instance ::model::\")\n",
    "else:\n",
    "    print(\"[INFO] pre-trained classifier not found. \\n Training Classifier \\Ensemble\")\n",
    "    start_time = datetime.datetime.now()\n",
    "    estimators = [svc, mlp, rf, lcr, sgd]\n",
    "    weights = [0.2, 0.3, 0.2, 0.2, 0.1]\n",
    "    model =  EnsembleVoteClassifier(clfs=estimators, voting=\"hard\", weights= weights, refit=False)\n",
    "    model.fit(None, np.unique(y_train))\n",
    "    print(\"[INFO] Succefully trained the classsifier. \\n Saving the classifier for further use\")\n",
    "    joblib.dump(model, 'model1.pkl.gz', compress=('gzip', 3))\n",
    "    end_time = datetime.datetime.now()\n",
    "    dt = end_time - start_time\n",
    "    seconds = dt.total_seconds()\n",
    "    t = format_time(seconds)\n",
    "    print(\"[INFO] Classifier Saved\")\n",
    "    print(\"total_time\",t)\n",
    "    print(\"[INFO] loading classifier: Ensemble trained on Conbined features...\")\n",
    "    #model = joblib.load(\"model1.pkl.gz\")\n",
    "    print(\"[INFO] Classifer is loaded as instance ::model::\")"
   ]
  },
  {
   "cell_type": "markdown",
   "metadata": {},
   "source": [
    "### Classifiers performance analysis"
   ]
  },
  {
   "cell_type": "markdown",
   "metadata": {},
   "source": [
    "#### 1. SVM"
   ]
  },
  {
   "cell_type": "code",
   "execution_count": 33,
   "metadata": {},
   "outputs": [
    {
     "name": "stdout",
     "output_type": "stream",
     "text": [
      "accuracy on training data: 1.0\n"
     ]
    }
   ],
   "source": [
    "print(\"accuracy on training data: {}\".format(svc.score(X_train, y_train)))"
   ]
  },
  {
   "cell_type": "code",
   "execution_count": 27,
   "metadata": {},
   "outputs": [
    {
     "name": "stdout",
     "output_type": "stream",
     "text": [
      "accuracy on test data: 0.9280285035629454\n"
     ]
    }
   ],
   "source": [
    "print(\"accuracy on test data: {}\".format(svc.score(X_test, y_test)))"
   ]
  },
  {
   "cell_type": "code",
   "execution_count": 28,
   "metadata": {},
   "outputs": [
    {
     "name": "stdout",
     "output_type": "stream",
     "text": [
      "accuracy on validation data: 0.8604651162790697\n"
     ]
    }
   ],
   "source": [
    "print(\"accuracy on validation data: {}\".format(svc.score(X_meta, y_meta)))"
   ]
  },
  {
   "cell_type": "markdown",
   "metadata": {},
   "source": [
    "#### 2. MLP"
   ]
  },
  {
   "cell_type": "code",
   "execution_count": 22,
   "metadata": {},
   "outputs": [
    {
     "name": "stdout",
     "output_type": "stream",
     "text": [
      "accuracy on training data: 1.0\n"
     ]
    }
   ],
   "source": [
    "print(\"accuracy on training data: {}\".format(mlp.score(X_train, y_train)))"
   ]
  },
  {
   "cell_type": "code",
   "execution_count": 23,
   "metadata": {},
   "outputs": [
    {
     "name": "stdout",
     "output_type": "stream",
     "text": [
      "accuracy on test data: 0.9528899445764054\n"
     ]
    }
   ],
   "source": [
    "print(\"accuracy on test data: {}\".format(mlp.score(X_test, y_test)))"
   ]
  },
  {
   "cell_type": "code",
   "execution_count": 24,
   "metadata": {},
   "outputs": [
    {
     "name": "stdout",
     "output_type": "stream",
     "text": [
      "accuracy on validation data: 0.8604651162790697\n"
     ]
    }
   ],
   "source": [
    "print(\"accuracy on validation data: {}\".format(mlp.score(X_meta, y_meta)))"
   ]
  },
  {
   "cell_type": "markdown",
   "metadata": {},
   "source": [
    "#### 3. RF"
   ]
  },
  {
   "cell_type": "code",
   "execution_count": 67,
   "metadata": {},
   "outputs": [
    {
     "name": "stdout",
     "output_type": "stream",
     "text": [
      "accuracy on training data: 1.0\n"
     ]
    }
   ],
   "source": [
    "print(\"accuracy on training data: {}\".format(rf.score(X_train, y_train)))"
   ]
  },
  {
   "cell_type": "code",
   "execution_count": 68,
   "metadata": {},
   "outputs": [
    {
     "name": "stdout",
     "output_type": "stream",
     "text": [
      "accuracy on test data: 0.9315122723673792\n"
     ]
    }
   ],
   "source": [
    "print(\"accuracy on test data: {}\".format(rf.score(X_test, y_test)))"
   ]
  },
  {
   "cell_type": "code",
   "execution_count": 69,
   "metadata": {},
   "outputs": [
    {
     "name": "stdout",
     "output_type": "stream",
     "text": [
      "accuracy on validation data: 0.813953488372093\n"
     ]
    }
   ],
   "source": [
    "print(\"accuracy on validation data: {}\".format(rf.score(X_meta, y_meta)))"
   ]
  },
  {
   "cell_type": "markdown",
   "metadata": {},
   "source": [
    "#### 4. SGD"
   ]
  },
  {
   "cell_type": "code",
   "execution_count": 70,
   "metadata": {},
   "outputs": [
    {
     "name": "stdout",
     "output_type": "stream",
     "text": [
      "accuracy on training data: 0.9659558702453482\n"
     ]
    }
   ],
   "source": [
    "print(\"accuracy on training data: {}\".format(sgd.score(X_train, y_train)))"
   ]
  },
  {
   "cell_type": "code",
   "execution_count": 71,
   "metadata": {},
   "outputs": [
    {
     "name": "stdout",
     "output_type": "stream",
     "text": [
      "accuracy on test data: 0.9359461599366588\n"
     ]
    }
   ],
   "source": [
    "print(\"accuracy on test data: {}\".format(sgd.score(X_test, y_test)))"
   ]
  },
  {
   "cell_type": "code",
   "execution_count": 72,
   "metadata": {},
   "outputs": [
    {
     "name": "stdout",
     "output_type": "stream",
     "text": [
      "accuracy on validation data: 0.7674418604651163\n"
     ]
    }
   ],
   "source": [
    "print(\"accuracy on validation data: {}\".format(sgd.score(X_meta, y_meta)))"
   ]
  },
  {
   "cell_type": "markdown",
   "metadata": {},
   "source": [
    "#### 5. KNN"
   ]
  },
  {
   "cell_type": "code",
   "execution_count": 87,
   "metadata": {},
   "outputs": [
    {
     "name": "stdout",
     "output_type": "stream",
     "text": [
      "accuracy on training data: 0.9749506010209122\n"
     ]
    }
   ],
   "source": [
    "print(\"accuracy on training data: {}\".format(knn.score(X_train, y_train)))"
   ]
  },
  {
   "cell_type": "code",
   "execution_count": 34,
   "metadata": {},
   "outputs": [
    {
     "name": "stdout",
     "output_type": "stream",
     "text": [
      "accuracy on test data: 0.907680126682502\n"
     ]
    }
   ],
   "source": [
    "print(\"accuracy on test data: {}\".format(knn.score(X_test, y_test)))"
   ]
  },
  {
   "cell_type": "code",
   "execution_count": 23,
   "metadata": {},
   "outputs": [
    {
     "name": "stdout",
     "output_type": "stream",
     "text": [
      "accuracy on validation data: 0.7906976744186046\n"
     ]
    }
   ],
   "source": [
    "print(\"accuracy on validation data: {}\".format(knn.score(X_meta, y_meta)))"
   ]
  },
  {
   "cell_type": "markdown",
   "metadata": {},
   "source": [
    "#### 6. ADB"
   ]
  },
  {
   "cell_type": "code",
   "execution_count": 73,
   "metadata": {},
   "outputs": [
    {
     "name": "stdout",
     "output_type": "stream",
     "text": [
      "accuracy on training data: 0.2358389593281739\n"
     ]
    }
   ],
   "source": [
    "print(\"accuracy on training data: {}\".format(adb.score(X_train, y_train)))"
   ]
  },
  {
   "cell_type": "code",
   "execution_count": 74,
   "metadata": {},
   "outputs": [
    {
     "name": "stdout",
     "output_type": "stream",
     "text": [
      "accuracy on test data: 0.27149643705463183\n"
     ]
    }
   ],
   "source": [
    "print(\"accuracy on test data: {}\".format(adb.score(X_test, y_test)))"
   ]
  },
  {
   "cell_type": "code",
   "execution_count": 75,
   "metadata": {},
   "outputs": [
    {
     "name": "stdout",
     "output_type": "stream",
     "text": [
      "accuracy on validation data: 0.20930232558139536\n"
     ]
    }
   ],
   "source": [
    "print(\"accuracy on validation data: {}\".format(adb.score(X_meta, y_meta)))"
   ]
  },
  {
   "cell_type": "markdown",
   "metadata": {},
   "source": [
    "#### 7. Tree"
   ]
  },
  {
   "cell_type": "code",
   "execution_count": 90,
   "metadata": {},
   "outputs": [
    {
     "name": "stdout",
     "output_type": "stream",
     "text": [
      "accuracy on training data: 1.0\n"
     ]
    }
   ],
   "source": [
    "print(\"accuracy on training data: {}\".format(tree.score(X_train, y_train)))"
   ]
  },
  {
   "cell_type": "code",
   "execution_count": 91,
   "metadata": {},
   "outputs": [
    {
     "name": "stdout",
     "output_type": "stream",
     "text": [
      "accuracy on test data: 0.7212193190815519\n"
     ]
    }
   ],
   "source": [
    "print(\"accuracy on test data: {}\".format(tree.score(X_test, y_test)))"
   ]
  },
  {
   "cell_type": "code",
   "execution_count": 92,
   "metadata": {},
   "outputs": [
    {
     "name": "stdout",
     "output_type": "stream",
     "text": [
      "accuracy on validation data: 0.5581395348837209\n"
     ]
    }
   ],
   "source": [
    "print(\"accuracy on validation data: {}\".format(tree.score(X_meta, y_meta)))"
   ]
  },
  {
   "cell_type": "markdown",
   "metadata": {},
   "source": [
    "#### 8. GNB"
   ]
  },
  {
   "cell_type": "code",
   "execution_count": 76,
   "metadata": {},
   "outputs": [
    {
     "name": "stdout",
     "output_type": "stream",
     "text": [
      "accuracy on training data: 0.7503910752511115\n"
     ]
    }
   ],
   "source": [
    "print(\"accuracy on training data: {}\".format(gnb.score(X_train, y_train)))"
   ]
  },
  {
   "cell_type": "code",
   "execution_count": 77,
   "metadata": {},
   "outputs": [
    {
     "name": "stdout",
     "output_type": "stream",
     "text": [
      "accuracy on test data: 0.7532858273950911\n"
     ]
    }
   ],
   "source": [
    "print(\"accuracy on test data: {}\".format(gnb.score(X_test, y_test)))"
   ]
  },
  {
   "cell_type": "code",
   "execution_count": 29,
   "metadata": {},
   "outputs": [
    {
     "name": "stdout",
     "output_type": "stream",
     "text": [
      "accuracy on validation data: 0.5348837209302325\n"
     ]
    }
   ],
   "source": [
    "print(\"accuracy on validation data: {}\".format(gnb.score(X_meta, y_meta)))"
   ]
  },
  {
   "cell_type": "markdown",
   "metadata": {},
   "source": [
    "#### 9. QDA"
   ]
  },
  {
   "cell_type": "code",
   "execution_count": 79,
   "metadata": {},
   "outputs": [
    {
     "name": "stdout",
     "output_type": "stream",
     "text": [
      "accuracy on training data: 1.0\n"
     ]
    }
   ],
   "source": [
    "print(\"accuracy on training data: {}\".format(qda.score(X_train, y_train)))"
   ]
  },
  {
   "cell_type": "code",
   "execution_count": 80,
   "metadata": {},
   "outputs": [
    {
     "name": "stdout",
     "output_type": "stream",
     "text": [
      "accuracy on test data: 0.06381631037212986\n"
     ]
    }
   ],
   "source": [
    "print(\"accuracy on test data: {}\".format(qda.score(X_test, y_test)))"
   ]
  },
  {
   "cell_type": "code",
   "execution_count": 81,
   "metadata": {},
   "outputs": [
    {
     "name": "stdout",
     "output_type": "stream",
     "text": [
      "accuracy on validation data: 0.023255813953488372\n"
     ]
    }
   ],
   "source": [
    "print(\"accuracy on validation data: {}\".format(qda.score(X_meta, y_meta)))"
   ]
  },
  {
   "cell_type": "markdown",
   "metadata": {},
   "source": [
    "#### 10. LCR"
   ]
  },
  {
   "cell_type": "code",
   "execution_count": 82,
   "metadata": {},
   "outputs": [
    {
     "name": "stdout",
     "output_type": "stream",
     "text": [
      "accuracy on training data: 0.9860344969537296\n"
     ]
    }
   ],
   "source": [
    "print(\"accuracy on training data: {}\".format(lcr.score(X_train, y_train)))"
   ]
  },
  {
   "cell_type": "code",
   "execution_count": 83,
   "metadata": {},
   "outputs": [
    {
     "name": "stdout",
     "output_type": "stream",
     "text": [
      "accuracy on test data: 0.9316706254948536\n"
     ]
    }
   ],
   "source": [
    "print(\"accuracy on test data: {}\".format(lcr.score(X_test, y_test)))"
   ]
  },
  {
   "cell_type": "code",
   "execution_count": 84,
   "metadata": {},
   "outputs": [
    {
     "name": "stdout",
     "output_type": "stream",
     "text": [
      "accuracy on validation data: 0.7906976744186046\n"
     ]
    }
   ],
   "source": [
    "print(\"accuracy on validation data: {}\".format(lcr.score(X_meta, y_meta)))"
   ]
  },
  {
   "cell_type": "markdown",
   "metadata": {},
   "source": [
    "#### 11. ExTree"
   ]
  },
  {
   "cell_type": "code",
   "execution_count": 23,
   "metadata": {},
   "outputs": [
    {
     "name": "stdout",
     "output_type": "stream",
     "text": [
      "accuracy on training data: 1.0\n"
     ]
    }
   ],
   "source": [
    "print(\"accuracy on training data: {}\".format(exTree.score(X_train, y_train)))"
   ]
  },
  {
   "cell_type": "code",
   "execution_count": 22,
   "metadata": {},
   "outputs": [
    {
     "name": "stdout",
     "output_type": "stream",
     "text": [
      "accuracy on test data: 0.9353127474267616\n"
     ]
    }
   ],
   "source": [
    "print(\"accuracy on test data: {}\".format(exTree.score(X_test, y_test)))"
   ]
  },
  {
   "cell_type": "code",
   "execution_count": 21,
   "metadata": {
    "scrolled": true
   },
   "outputs": [
    {
     "name": "stdout",
     "output_type": "stream",
     "text": [
      "accuracy on validation data: 0.8604651162790697\n"
     ]
    }
   ],
   "source": [
    "print(\"accuracy on validation data: {}\".format(exTree.score(X_meta, y_meta)))"
   ]
  },
  {
   "cell_type": "markdown",
   "metadata": {},
   "source": [
    "#### ==> Ensemble"
   ]
  },
  {
   "cell_type": "code",
   "execution_count": null,
   "metadata": {},
   "outputs": [],
   "source": [
    "print(\"accuracy on training data: {}\".format(model.score(X_train, y_train)))"
   ]
  },
  {
   "cell_type": "code",
   "execution_count": 29,
   "metadata": {},
   "outputs": [
    {
     "name": "stdout",
     "output_type": "stream",
     "text": [
      "accuracy on test data: 0.953840063341251\n"
     ]
    }
   ],
   "source": [
    "print(\"accuracy on test data: {}\".format(model.score(X_test, y_test)))"
   ]
  },
  {
   "cell_type": "code",
   "execution_count": 31,
   "metadata": {},
   "outputs": [
    {
     "name": "stdout",
     "output_type": "stream",
     "text": [
      "accuracy on validation data: 0.8837209302325582\n"
     ]
    }
   ],
   "source": [
    "print(\"accuracy on validation data: {}\".format(model.score(X_meta, y_meta)))"
   ]
  },
  {
   "cell_type": "code",
   "execution_count": 25,
   "metadata": {},
   "outputs": [
    {
     "data": {
      "text/plain": [
       "0.9523357086302454"
      ]
     },
     "execution_count": 25,
     "metadata": {},
     "output_type": "execute_result"
    }
   ],
   "source": [
    "from sklearn.metrics import f1_score, accuracy_score\n",
    "#y_pred = model.predict(X_test).tolist()\n",
    "#y_pred = joblib.dump(y_pred, \"predictions_test.npy\")\n",
    "y_pred = joblib.load(\"predictions_test.npy\")\n",
    "accuracy_score(y_test, y_pred) * 100\n",
    "f1_score(y_test, y_pred, average='micro')"
   ]
  },
  {
   "cell_type": "code",
   "execution_count": 25,
   "metadata": {},
   "outputs": [
    {
     "data": {
      "image/png": "[encoded data removed]",
      "text/plain": [
       "<Figure size 1152x864 with 2 Axes>"
      ]
     },
     "metadata": {
      "needs_background": "light"
     },
     "output_type": "display_data"
    }
   ],
   "source": [
    "import scikitplot as skplt\n",
    "from sklearn.metrics import accuracy_score\n",
    "#y_pred = model.predict(X_test).tolist()\n",
    "accuracy = accuracy_score(y_test, y_pred) * 100\n",
    "misclass = 100 - accuracy\n",
    "y_pred = joblib.load(\"predictions_test.npy\")\n",
    "skplt.metrics.plot_confusion_matrix(y_test.astype(int), np.array(y_pred).astype(int), x_tick_rotation=45,figsize=((16,12)),\n",
    "                                    cmap = plt.get_cmap('Blues'), normalize=False, title_fontsize=16, text_fontsize=10, hide_zeros=False)\n",
    "\n",
    "plt.ylabel('True label')\n",
    "plt.xlabel('Predicted label\\naccuracy={:0.4f} % ; misclass={:0.4f}%'.format(accuracy, misclass))\n",
    "plt.tight_layout()\n",
    "plt.savefig('Confusion Matrix test.png')\n",
    "plt.show()"
   ]
  },
  {
   "cell_type": "code",
   "execution_count": 42,
   "metadata": {},
   "outputs": [
    {
     "data": {
      "image/png": "[encoded data removed]",
      "text/plain": [
       "<Figure size 1728x1008 with 2 Axes>"
      ]
     },
     "metadata": {},
     "output_type": "display_data"
    }
   ],
   "source": [
    "import numpy as np\n",
    "import pandas as pd\n",
    "import matplotlib.pyplot as plt\n",
    "import seaborn as sns\n",
    "from sklearn.metrics import confusion_matrix\n",
    "\n",
    "def cm_analysis(y_true, y_pred, labels, ymap=None, figsize=(10,10)):\n",
    "    if ymap is not None:\n",
    "        y_pred = [ymap[yi] for yi in y_pred]\n",
    "        y_true = [ymap[yi] for yi in y_true]\n",
    "        labels = [ymap[yi] for yi in labels]\n",
    "    cm = confusion_matrix(y_true, y_pred, labels=labels)\n",
    "    cm_sum = np.sum(cm, axis=1, keepdims=True)\n",
    "    cm_perc = cm / cm_sum.astype(float) * 100\n",
    "    annot = np.empty_like(cm).astype(str)\n",
    "    nrows, ncols = cm.shape\n",
    "    for i in range(nrows):\n",
    "        for j in range(ncols):\n",
    "            c = cm[i, j]\n",
    "            p = cm_perc[i, j]\n",
    "            if i == j:\n",
    "                s = cm_sum[i]\n",
    "                annot[i, j] = '%d' % (c)\n",
    "            elif c == 0:\n",
    "                annot[i, j] = ''\n",
    "            else:\n",
    "                annot[i, j] = '%d' % (c)\n",
    "    cm = pd.DataFrame(cm, index=labels, columns=labels)\n",
    "    cm.index.name = 'Actual'\n",
    "    cm.columns.name = 'Predicted'\n",
    "    fig, ax = plt.subplots(figsize=figsize)\n",
    "    sns.heatmap(cm, annot=annot, fmt='', ax=ax)\n",
    "    plt.savefig('Confusion_Matrix.png')\n",
    "\n",
    "y_pred = joblib.load(\"predictions_test.npy\")\n",
    "#cm = confusion_matrix(y_test, y_pred)\n",
    "cm_analysis(y_test, y_pred, range(43), ymap=None, figsize=(24,14))"
   ]
  },
  {
   "cell_type": "code",
   "execution_count": null,
   "metadata": {},
   "outputs": [],
   "source": []
  }
 ],
 "metadata": {
  "kernelspec": {
   "display_name": "Python 3",
   "language": "python",
   "name": "python3"
  },
  "language_info": {
   "codemirror_mode": {
    "name": "ipython",
    "version": 3
   },
   "file_extension": ".py",
   "mimetype": "text/x-python",
   "name": "python",
   "nbconvert_exporter": "python",
   "pygments_lexer": "ipython3",
   "version": "3.7.5"
  }
 },
 "nbformat": 4,
 "nbformat_minor": 2
}
